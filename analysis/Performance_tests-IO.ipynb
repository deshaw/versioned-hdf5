{
 "cells": [
  {
   "cell_type": "markdown",
   "metadata": {},
   "source": [
    "# I/O Performance for Versioned-HDF5 Files"
   ]
  },
  {
   "cell_type": "markdown",
   "metadata": {},
   "source": [
    "For these tests, we have generated `.h5` data files using the `generate_data_deterministic.py` script from the [VersionedHDF5 repository](https://github.com/deshaw/versioned-hdf5), using the standard options ([see details here](#standard))\n",
    "\n",
    "We performed the following tests:\n",
    "\n",
    "1. [Test Large Fraction Changes Sparse](#test1)\n",
    "2. [Test Mostly Appends Sparse](#test2)\n",
    "3. [Test Small Fraction Changes Sparse](#test3)\n",
    "4. [Test Large Fraction Changes (Constant Array Size) Sparse](#test4)\n",
    "5. [Test Mostly Appends Dense](#test5)\n",
    "\n",
    "The `.h5` files used in these tests should be generated separately, using the `performance_tests.py` script from `analysis` folder.\n",
    "\n",
    "**These tests were last run on**"
   ]
  },
  {
   "cell_type": "code",
   "execution_count": null,
   "metadata": {},
   "outputs": [],
   "source": [
    "from datetime import datetime\n",
    "\n",
    "print(datetime.utcnow(), \"UTC\")"
   ]
  },
  {
   "cell_type": "markdown",
   "metadata": {},
   "source": [
    "## Setup"
   ]
  },
  {
   "cell_type": "markdown",
   "metadata": {},
   "source": [
    "The path to the generated test files is"
   ]
  },
  {
   "cell_type": "code",
   "execution_count": null,
   "metadata": {},
   "outputs": [],
   "source": [
    "path = \"/home/melissa/projects/versioned-hdf5/analysis\"  # change this as necessary"
   ]
  },
  {
   "cell_type": "code",
   "execution_count": null,
   "metadata": {},
   "outputs": [],
   "source": [
    "import h5py\n",
    "import json\n",
    "import time\n",
    "import numpy as np\n",
    "import performance_tests\n",
    "import matplotlib.pyplot as plt\n",
    "from versioned_hdf5 import VersionedHDF5File"
   ]
  },
  {
   "cell_type": "markdown",
   "metadata": {},
   "source": [
    "<a id='test1'></a>\n",
    "\n",
    "## Test 1: Large Fraction Changes (Sparse)"
   ]
  },
  {
   "cell_type": "code",
   "execution_count": null,
   "metadata": {},
   "outputs": [],
   "source": [
    "testname = \"test_large_fraction_changes_sparse\""
   ]
  },
  {
   "cell_type": "markdown",
   "metadata": {},
   "source": [
    "### Reading in sequential mode"
   ]
  },
  {
   "cell_type": "markdown",
   "metadata": {},
   "source": [
    "For this test, we'll read data from all versions in a file, sequentially. "
   ]
  },
  {
   "cell_type": "code",
   "execution_count": null,
   "metadata": {},
   "outputs": [],
   "source": [
    "def read_times(filename):\n",
    "    h5pyfile = h5py.File(filename, \"r+\")\n",
    "    vfile = VersionedHDF5File(h5pyfile)\n",
    "    t0 = time.time()\n",
    "    for vname in vfile._versions:\n",
    "        if vname != \"__first_version__\":\n",
    "            version = vfile[vname]\n",
    "            group_key = list(version.keys())[0]\n",
    "            val = version[group_key][\"val\"]\n",
    "    t = time.time() - t0\n",
    "    h5pyfile.close()\n",
    "    vfile.close()\n",
    "    return t"
   ]
  },
  {
   "cell_type": "markdown",
   "metadata": {},
   "source": [
    "To keep this test short, we'll only analyze the tests using **no compression**, and **chunk size** $2^{14}$. Note that this can be changed in the lines below if desired. "
   ]
  },
  {
   "cell_type": "code",
   "execution_count": null,
   "metadata": {},
   "outputs": [],
   "source": [
    "compression = \"None\"\n",
    "exponent = 14"
   ]
  },
  {
   "cell_type": "markdown",
   "metadata": {},
   "source": [
    "Plotting with respect to the number of versions, we get the following:"
   ]
  },
  {
   "cell_type": "code",
   "execution_count": null,
   "metadata": {},
   "outputs": [],
   "source": [
    "rtimes = []\n",
    "num_transactions = [50, 100, 500, 1000, 5000]\n",
    "for n in num_transactions:\n",
    "    filename = f\"{testname}_{n}_{exponent}_{compression}.h5\"\n",
    "    rtimes.append(read_times(filename))\n",
    "\n",
    "fig = plt.figure(figsize=(10, 6))\n",
    "\n",
    "plt.plot(num_transactions, rtimes, \"o-\")\n",
    "selected = [0, 2, 3, 4]\n",
    "plt.xticks(np.array(num_transactions)[selected])\n",
    "plt.title(f\"Sequential read time (in sec) for {testname}\")\n",
    "plt.xlabel(\"Number of transactions\")\n",
    "# plt.savefig(\"large_fraction_changes_seqread.png\", dpi=100)\n",
    "plt.show()"
   ]
  },
  {
   "cell_type": "markdown",
   "metadata": {},
   "source": [
    "As expected, read times increase for files with a larger number of versions, but the growth is close to linear."
   ]
  },
  {
   "cell_type": "markdown",
   "metadata": {},
   "source": [
    "### Reading specific version"
   ]
  },
  {
   "cell_type": "markdown",
   "metadata": {},
   "source": [
    "For this test, we'll compute the times required to read a specific version from the versioned-hdf5 file. \n",
    "\n",
    "**Note**. Although possible, it is not recommended to read versions using integer indexing as the performance of reading versions from their name it far superior.\n",
    "\n",
    "In the code below you can choose to read a random version from the file, or the version which is approximately at half of the version set (for reproducibility reasons)."
   ]
  },
  {
   "cell_type": "code",
   "execution_count": null,
   "metadata": {},
   "outputs": [],
   "source": [
    "def read_version(filename, n):\n",
    "    # Open file to read version\n",
    "    h5pyfile = h5py.File(filename, \"r+\")\n",
    "    vfile = VersionedHDF5File(h5pyfile)\n",
    "    # If you want to choose a version at random,\n",
    "    # N = len(vfile._versions.keys())\n",
    "    # index = np.random.randint(0, N)\n",
    "    index = n // 2\n",
    "    vname = list(vfile._versions.keys())[index]\n",
    "    t0 = time.time()\n",
    "    version = vfile[vname]\n",
    "    # It is not recommended to use integer indexing for performance reasons:\n",
    "    # e.g. version = vfile[-index]\n",
    "    # This is much slower than reading from a version name.\n",
    "    group_key = list(version.keys())[0]\n",
    "    val = version[group_key][\"val\"]\n",
    "    t = time.time() - t0\n",
    "    h5pyfile.close()\n",
    "    vfile.close()\n",
    "    return t"
   ]
  },
  {
   "cell_type": "markdown",
   "metadata": {},
   "source": [
    "The next plot contains a set of reads for the middle element of each file (each line in the figure represents a run). It is expected that there are variations in the read times, as this fluctuates with the system load while running the test."
   ]
  },
  {
   "cell_type": "code",
   "execution_count": null,
   "metadata": {},
   "outputs": [],
   "source": [
    "num_transactions = [50, 100, 500, 1000, 5000]\n",
    "\n",
    "fig = plt.figure(figsize=(10, 6))\n",
    "\n",
    "for _ in range(20):\n",
    "    vtimes = []\n",
    "    for i in range(5):\n",
    "        n = num_transactions[i]\n",
    "        filename = f\"{testname}_{n}_{exponent}_{compression}.h5\"\n",
    "        vtimes.append(read_version(filename, n))\n",
    "    plt.plot(num_transactions, vtimes, \"*-\")\n",
    "\n",
    "plt.xticks(np.array(num_transactions)[selected])\n",
    "plt.title(f\"Time (in sec) to read specific version for {testname}\")\n",
    "plt.xlabel(\"Number of transactions\")\n",
    "# plt.savefig(\"large_fraction_changes_midread.png\", dpi=100)\n",
    "plt.show()"
   ]
  },
  {
   "cell_type": "markdown",
   "metadata": {},
   "source": [
    "From this test, we can see that reading an arbitrary version from the file is very slightly affected by the number of versions in the file."
   ]
  },
  {
   "cell_type": "markdown",
   "metadata": {},
   "source": [
    "### Reading first version vs. reading latest version"
   ]
  },
  {
   "cell_type": "markdown",
   "metadata": {},
   "source": [
    "Next, we'll compare the times necessary to read the first version and the latest version on each file."
   ]
  },
  {
   "cell_type": "code",
   "execution_count": null,
   "metadata": {},
   "outputs": [],
   "source": [
    "def read_first(filename):\n",
    "    # Open file to read version\n",
    "    h5pyfile = h5py.File(filename, \"r+\")\n",
    "    vfile = VersionedHDF5File(h5pyfile)\n",
    "    t0 = time.time()\n",
    "    version = vfile[\"initial_version\"]\n",
    "    group_key = list(version.keys())[0]\n",
    "    val = version[group_key][\"val\"]\n",
    "    t = time.time() - t0\n",
    "    h5pyfile.close()\n",
    "    vfile.close()\n",
    "    return t"
   ]
  },
  {
   "cell_type": "code",
   "execution_count": null,
   "metadata": {},
   "outputs": [],
   "source": [
    "num_transactions = [50, 100, 500, 1000, 5000]\n",
    "\n",
    "fig = plt.figure(figsize=(10, 6))\n",
    "\n",
    "for _ in range(20):\n",
    "    ftimes = []\n",
    "    for i in range(5):\n",
    "        n = num_transactions[i]\n",
    "        filename = f\"{testname}_{n}_{exponent}_{compression}.h5\"\n",
    "        ftimes.append(read_first(filename))\n",
    "    plt.plot(num_transactions, ftimes, \"*-\")\n",
    "\n",
    "plt.xticks(np.array(num_transactions)[selected])\n",
    "plt.title(f\"Time (in sec) to read first version for {testname}\")\n",
    "plt.xlabel(\"Number of transactions\")\n",
    "# plt.savefig(\"large_fraction_changes_firstread.png\", dpi=100)\n",
    "plt.show()"
   ]
  },
  {
   "cell_type": "markdown",
   "metadata": {},
   "source": [
    "Note that, on average, the time required to read the contents of the first version written to the file do not increase significantly with the number of versions stored in the file."
   ]
  },
  {
   "cell_type": "markdown",
   "metadata": {},
   "source": [
    "The Versioned HDF5 file stores the latest version as the last to be stored in the file. For comparison, we will also measure reading times for files generated without versioning (i.e. with no use of Versioned HDF5). Note that these should be similar data."
   ]
  },
  {
   "cell_type": "code",
   "execution_count": null,
   "metadata": {},
   "outputs": [],
   "source": [
    "def read_last(filename):\n",
    "    # Open file to read version\n",
    "    h5pyfile = h5py.File(filename, \"r+\")\n",
    "    vfile = VersionedHDF5File(h5pyfile)\n",
    "    t0 = time.time()\n",
    "    #\n",
    "    # Current version is 0\n",
    "    # This is the same as\n",
    "    # version = vfile[vfile._versions.attrs['current_version']]\n",
    "    #\n",
    "    version = vfile[0]\n",
    "    group_key = list(version.keys())[0]\n",
    "    val = version[group_key][\"val\"]\n",
    "    t = time.time() - t0\n",
    "    h5pyfile.close()\n",
    "    vfile.close()\n",
    "    return t"
   ]
  },
  {
   "cell_type": "code",
   "execution_count": null,
   "metadata": {},
   "outputs": [],
   "source": [
    "def read_no_versions(filename):\n",
    "    # Open file to read version\n",
    "    h5pyfile = h5py.File(filename, \"r+\")\n",
    "    t0 = time.time()\n",
    "    val = h5pyfile[list(h5pyfile.keys())[0]][\"val\"]\n",
    "    t = time.time() - t0\n",
    "    h5pyfile.close()\n",
    "    return t"
   ]
  },
  {
   "cell_type": "code",
   "execution_count": null,
   "metadata": {},
   "outputs": [],
   "source": [
    "num_transactions = [50, 100, 500, 1000, 5000]\n",
    "\n",
    "fig = plt.figure(figsize=(10, 6))\n",
    "\n",
    "# We only do one run for the unversioned files.\n",
    "notimes = []\n",
    "for i in range(5):\n",
    "    n = num_transactions[i]\n",
    "    filename = f\"{testname}_{n}_{exponent}_{compression}_no_versions.h5\"\n",
    "    notimes.append(read_no_versions(filename))\n",
    "plt.plot(num_transactions, notimes, \"ko-\", ms=6)\n",
    "plt.legend([\"No versions\"], loc=\"upper left\")\n",
    "\n",
    "for _ in range(20):\n",
    "    ltimes = []\n",
    "    for i in range(5):\n",
    "        n = num_transactions[i]\n",
    "        filename = f\"{testname}_{n}_{exponent}_{compression}.h5\"\n",
    "        ltimes.append(read_last(filename))\n",
    "    plt.plot(num_transactions, ltimes, \"*-\")\n",
    "\n",
    "plt.xticks(np.array(num_transactions)[selected])\n",
    "plt.title(f\"Time (in sec) to read latest version for {testname}\")\n",
    "plt.xlabel(\"Number of transactions\")\n",
    "# plt.savefig(\"large_fraction_changes_lastread.png\", dpi=100)\n",
    "plt.show()"
   ]
  },
  {
   "cell_type": "markdown",
   "metadata": {},
   "source": [
    "In this case, we can see that:\n",
    "\n",
    "- on average, reading the latest version on a VersionedHDF5File is ~5x slower than reading an unversioned file; \n",
    "- the time required to read the latest version from a Versioned HDF5 file increases modestly with the number of versions stored in the file."
   ]
  },
  {
   "cell_type": "markdown",
   "metadata": {},
   "source": [
    "<a id='test2'></a>\n",
    "\n",
    "## Test 2: Mostly appends (Sparse)"
   ]
  },
  {
   "cell_type": "code",
   "execution_count": null,
   "metadata": {},
   "outputs": [],
   "source": [
    "testname = \"test_mostly_appends_sparse\""
   ]
  },
  {
   "cell_type": "markdown",
   "metadata": {},
   "source": [
    "Once again, for shortness, we'll only consider "
   ]
  },
  {
   "cell_type": "code",
   "execution_count": null,
   "metadata": {},
   "outputs": [],
   "source": [
    "compression = \"None\"\n",
    "exponent = 14"
   ]
  },
  {
   "cell_type": "markdown",
   "metadata": {},
   "source": [
    "### Reading in sequential mode"
   ]
  },
  {
   "cell_type": "markdown",
   "metadata": {},
   "source": [
    "If we read data from each version of the file, sequentially, we obtain the following:"
   ]
  },
  {
   "cell_type": "code",
   "execution_count": null,
   "metadata": {},
   "outputs": [],
   "source": [
    "rtimes = []\n",
    "num_transactions = [25, 50, 100, 500]\n",
    "for n in num_transactions:\n",
    "    filename = f\"{testname}_{n}_{exponent}_{compression}.h5\"\n",
    "    rtimes.append(read_times(filename))\n",
    "\n",
    "fig = plt.figure(figsize=(10, 6))\n",
    "\n",
    "plt.plot(num_transactions, rtimes, \"o-\")\n",
    "selected = [0, 1, 2, 3]\n",
    "plt.xticks(np.array(num_transactions)[selected])\n",
    "plt.title(f\"Sequential read time (in sec) for {testname}\")\n",
    "plt.xlabel(\"Number of transactions\")\n",
    "# plt.savefig(\"mostly_appends_sparse_seqread.png\", dpi=100)\n",
    "plt.show()"
   ]
  },
  {
   "cell_type": "markdown",
   "metadata": {},
   "source": [
    "In this case, we can see that the increase in the time required to read the datasets from the VersionedHDF5File grows quadratically with the number of transactions stored in the file. This is consistent with the increase in the size of the dataset, which also grows quickly with each new version commited to file."
   ]
  },
  {
   "cell_type": "markdown",
   "metadata": {},
   "source": [
    "### Reading specific version"
   ]
  },
  {
   "cell_type": "markdown",
   "metadata": {},
   "source": [
    "Now, let's see the times required to read a specific version from each file."
   ]
  },
  {
   "cell_type": "code",
   "execution_count": null,
   "metadata": {},
   "outputs": [],
   "source": [
    "num_transactions = [25, 50, 100, 500]\n",
    "\n",
    "fig = plt.figure(figsize=(10, 6))\n",
    "\n",
    "for _ in range(20):\n",
    "    vtimes = []\n",
    "    for i in range(4):\n",
    "        n = num_transactions[i]\n",
    "        filename = f\"{testname}_{n}_{exponent}_{compression}.h5\"\n",
    "        vtimes.append(read_version(filename, n))\n",
    "    plt.plot(num_transactions, vtimes, \"*-\")\n",
    "\n",
    "plt.xticks(num_transactions)\n",
    "plt.title(f\"Time (in sec) to read random version for {testname}\")\n",
    "plt.xlabel(\"Number of transactions\")\n",
    "# plt.savefig(\"mostly_appends_sparse_midread.png\", dpi=100)\n",
    "plt.show()"
   ]
  },
  {
   "cell_type": "markdown",
   "metadata": {},
   "source": [
    "In this case, we can see a very clear increase in the time required to read versions from the file as the number of transactions increases. Again, this can be explained in part by the size of the datasets being read from file, as they grow in size with each new transaction."
   ]
  },
  {
   "cell_type": "markdown",
   "metadata": {},
   "source": [
    "### Reading first version vs. reading latest version"
   ]
  },
  {
   "cell_type": "markdown",
   "metadata": {},
   "source": [
    "Looking at the times required to read the first version and the latest version of the files, we get the following results."
   ]
  },
  {
   "cell_type": "code",
   "execution_count": null,
   "metadata": {},
   "outputs": [],
   "source": [
    "num_transactions = [25, 50, 100, 500]\n",
    "\n",
    "fig = plt.figure(figsize=(10, 6))\n",
    "\n",
    "for _ in range(20):\n",
    "    ftimes = []\n",
    "    for i in range(4):\n",
    "        n = num_transactions[i]\n",
    "        filename = f\"{testname}_{n}_{exponent}_{compression}.h5\"\n",
    "        ftimes.append(read_first(filename))\n",
    "    plt.plot(num_transactions, ftimes, \"*-\")\n",
    "\n",
    "plt.xticks(num_transactions)\n",
    "plt.title(f\"Time (in sec) to read first version for {testname}\")\n",
    "plt.xlabel(\"Number of transactions\")\n",
    "# plt.savefig(\"mostly_appends_sparse_firstread.png\", dpi=100)\n",
    "plt.show()"
   ]
  },
  {
   "cell_type": "markdown",
   "metadata": {},
   "source": [
    "In this case, there is no significant increase in the time required to read the first version of the file as the number of transactions increases. "
   ]
  },
  {
   "cell_type": "markdown",
   "metadata": {},
   "source": [
    "For the latest version, the results are as follows."
   ]
  },
  {
   "cell_type": "code",
   "execution_count": null,
   "metadata": {},
   "outputs": [],
   "source": [
    "num_transactions = [25, 50, 100, 500]\n",
    "\n",
    "fig = plt.figure(figsize=(10, 6))\n",
    "\n",
    "notimes = []\n",
    "for i in range(4):\n",
    "    n = num_transactions[i]\n",
    "    filename = f\"{testname}_{n}_{exponent}_{compression}_no_versions.h5\"\n",
    "    notimes.append(read_no_versions(filename))\n",
    "plt.plot(num_transactions, notimes, \"ko-\", ms=6)\n",
    "plt.legend([\"No versions\"], loc=\"upper left\")\n",
    "\n",
    "for _ in range(20):\n",
    "    ltimes = []\n",
    "    for i in range(4):\n",
    "        n = num_transactions[i]\n",
    "        filename = f\"{testname}_{n}_{exponent}_{compression}.h5\"\n",
    "        ltimes.append(read_last(filename))\n",
    "    plt.plot(num_transactions, ltimes, \"*-\")\n",
    "\n",
    "plt.xticks(np.array(num_transactions)[selected])\n",
    "plt.title(f\"Time (in sec) to read latest version for {testname}\")\n",
    "plt.xlabel(\"Number of transactions\")\n",
    "# plt.savefig(\"mostly_appends_sparse_lastread.png\", dpi=100)\n",
    "plt.show()"
   ]
  },
  {
   "cell_type": "markdown",
   "metadata": {},
   "source": [
    "Note that here we can see the impact of storing all versions of the growing datasets on the VersionedHDF5File. While the unversioned file can be read in constant time, irrespective of the number of transactions commited, the versioned file suffers a slight drop in read performance (for 500 transactions, this amounts to an average difference of ~10x in seconds.)"
   ]
  },
  {
   "cell_type": "markdown",
   "metadata": {},
   "source": [
    "<a id='test3'></a>\n",
    "\n",
    "## Test 3: Small Fraction Changes (Sparse)"
   ]
  },
  {
   "cell_type": "code",
   "execution_count": null,
   "metadata": {},
   "outputs": [],
   "source": [
    "testname = \"test_small_fraction_changes_sparse\""
   ]
  },
  {
   "cell_type": "markdown",
   "metadata": {},
   "source": [
    "### Reading in sequential mode"
   ]
  },
  {
   "cell_type": "markdown",
   "metadata": {},
   "source": [
    "Once again, we only consider"
   ]
  },
  {
   "cell_type": "code",
   "execution_count": null,
   "metadata": {},
   "outputs": [],
   "source": [
    "compression = \"None\"\n",
    "exponent = 14"
   ]
  },
  {
   "cell_type": "markdown",
   "metadata": {},
   "source": [
    "Reading all versions in a file sequentially gives the following result."
   ]
  },
  {
   "cell_type": "code",
   "execution_count": null,
   "metadata": {},
   "outputs": [],
   "source": [
    "rtimes = []\n",
    "num_transactions = [50, 100, 500, 1000, 5000]\n",
    "for n in num_transactions:\n",
    "    filename = f\"{testname}_{n}_{exponent}_{compression}.h5\"\n",
    "    rtimes.append(read_times(filename))\n",
    "\n",
    "fig = plt.figure(figsize=(10, 6))\n",
    "\n",
    "plt.plot(num_transactions, rtimes, \"o-\")\n",
    "selected = [0, 3, 4]\n",
    "plt.xticks(np.array(num_transactions)[selected])\n",
    "plt.title(f\"Sequential read time (in sec) for {testname}\")\n",
    "plt.xlabel(\"Number of transactions\")\n",
    "# plt.savefig(\"small_fraction_changes_seqread.png\", dpi=100)\n",
    "plt.show()"
   ]
  },
  {
   "cell_type": "markdown",
   "metadata": {},
   "source": [
    "In this test, the sequential read times grow linearly with respect to the number of transactions commited to file."
   ]
  },
  {
   "cell_type": "markdown",
   "metadata": {},
   "source": [
    "### Reading specific version"
   ]
  },
  {
   "cell_type": "markdown",
   "metadata": {},
   "source": [
    "The times required to read a specific version from each file are similarly slightly affected by the number of existing versions in the file, as can be seen below."
   ]
  },
  {
   "cell_type": "code",
   "execution_count": null,
   "metadata": {},
   "outputs": [],
   "source": [
    "num_transactions = [50, 100, 500, 1000, 5000]\n",
    "\n",
    "fig = plt.figure(figsize=(10, 6))\n",
    "\n",
    "for _ in range(20):\n",
    "    vtimes = []\n",
    "    for i in range(5):\n",
    "        n = num_transactions[i]\n",
    "        filename = f\"{testname}_{n}_{exponent}_{compression}.h5\"\n",
    "        vtimes.append(read_version(filename, n))\n",
    "    plt.plot(num_transactions, vtimes, \"*-\")\n",
    "\n",
    "plt.xticks(np.array(num_transactions)[selected])\n",
    "plt.title(f\"Time (in sec) to read random version for {testname}\")\n",
    "plt.xlabel(\"Number of transactions\")\n",
    "# plt.savefig(\"small_fraction_changes_midread.png\", dpi=100)\n",
    "plt.show()"
   ]
  },
  {
   "cell_type": "markdown",
   "metadata": {},
   "source": [
    "In this test, we can see there is again a slight increase in the time required to read a given version from each file as the number of transactions grows, similar to what we observe in `test_large_fraction_changes_sparse`."
   ]
  },
  {
   "cell_type": "markdown",
   "metadata": {},
   "source": [
    "### Reading first version vs. reading latest version"
   ]
  },
  {
   "cell_type": "markdown",
   "metadata": {},
   "source": [
    "Reading the first version from each file results in the following:"
   ]
  },
  {
   "cell_type": "code",
   "execution_count": null,
   "metadata": {},
   "outputs": [],
   "source": [
    "num_transactions = [50, 100, 500, 1000, 5000]\n",
    "\n",
    "fig = plt.figure(figsize=(10, 6))\n",
    "\n",
    "for _ in range(20):\n",
    "    ftimes = []\n",
    "    for i in range(5):\n",
    "        n = num_transactions[i]\n",
    "        filename = f\"{testname}_{n}_{exponent}_{compression}.h5\"\n",
    "        ftimes.append(read_first(filename))\n",
    "    plt.plot(num_transactions, ftimes, \"*-\")\n",
    "\n",
    "plt.xticks(np.array(num_transactions)[selected])\n",
    "plt.title(f\"Time (in sec) to read first version for {testname}\")\n",
    "plt.xlabel(\"Number of transactions\")\n",
    "# plt.savefig(\"small_fraction_changes_firstread.png\", dpi=100)\n",
    "plt.show()"
   ]
  },
  {
   "cell_type": "markdown",
   "metadata": {},
   "source": [
    "Comparing reading the latest version from a Versioned HDF5 file with an unversioned file (black line in the plot) results in the following:"
   ]
  },
  {
   "cell_type": "code",
   "execution_count": null,
   "metadata": {},
   "outputs": [],
   "source": [
    "num_transactions = [50, 100, 500, 1000, 5000]\n",
    "\n",
    "fig = plt.figure(figsize=(10, 6))\n",
    "\n",
    "notimes = []\n",
    "for i in range(5):\n",
    "    n = num_transactions[i]\n",
    "    filename = f\"{testname}_{n}_{exponent}_{compression}_no_versions.h5\"\n",
    "    notimes.append(read_no_versions(filename))\n",
    "plt.plot(num_transactions, notimes, \"ko-\", ms=6)\n",
    "plt.legend([\"No versions\"], loc=\"upper left\")\n",
    "\n",
    "for _ in range(20):\n",
    "    ltimes = []\n",
    "    for i in range(5):\n",
    "        n = num_transactions[i]\n",
    "        filename = f\"{testname}_{n}_{exponent}_{compression}.h5\"\n",
    "        ltimes.append(read_last(filename))\n",
    "    plt.plot(num_transactions, ltimes, \"*-\")\n",
    "\n",
    "plt.xticks(np.array(num_transactions)[selected])\n",
    "plt.title(f\"Time (in sec) to read latest version for {testname}\")\n",
    "plt.xlabel(\"Number of transactions\")\n",
    "# plt.savefig(\"small_fraction_changes_lastread.png\", dpi=100)\n",
    "plt.show()"
   ]
  },
  {
   "cell_type": "markdown",
   "metadata": {},
   "source": [
    "In this case, we can see that:\n",
    "\n",
    "- reading the latest version is not as performant as reading an unversioned file;\n",
    "- the time required to read the latest version from a Versioned HDF5 file increases modestly with the number of versions stored in the file;\n",
    "- these results are similar to the ones obtained in `test_large_fraction_changes_sparse`."
   ]
  },
  {
   "cell_type": "markdown",
   "metadata": {},
   "source": [
    "<a id='test4'></a>\n",
    "\n",
    "## Test 4: Large Fraction Changes (Sparse) - Constant Size"
   ]
  },
  {
   "cell_type": "code",
   "execution_count": null,
   "metadata": {},
   "outputs": [],
   "source": [
    "testname = \"test_large_fraction_constant_sparse\""
   ]
  },
  {
   "cell_type": "markdown",
   "metadata": {},
   "source": [
    "Once more,"
   ]
  },
  {
   "cell_type": "code",
   "execution_count": null,
   "metadata": {},
   "outputs": [],
   "source": [
    "compression = \"None\"\n",
    "exponent = 14"
   ]
  },
  {
   "cell_type": "markdown",
   "metadata": {},
   "source": [
    "### Reading in sequential mode"
   ]
  },
  {
   "cell_type": "markdown",
   "metadata": {},
   "source": [
    "Reading all versions from each file sequentially gives the following."
   ]
  },
  {
   "cell_type": "code",
   "execution_count": null,
   "metadata": {},
   "outputs": [],
   "source": [
    "rtimes = []\n",
    "num_transactions = [50, 100, 500, 1000, 5000]\n",
    "\n",
    "fig = plt.figure(figsize=(10, 6))\n",
    "\n",
    "for n in num_transactions:\n",
    "    filename = f\"{testname}_{n}_{exponent}_{compression}.h5\"\n",
    "    rtimes.append(read_times(filename))\n",
    "\n",
    "plt.plot(num_transactions, rtimes, \"o-\")\n",
    "selected = [0, 2, 3, 4]\n",
    "plt.xticks(np.array(num_transactions)[selected])\n",
    "plt.title(f\"Sequential read time (in sec) for {testname}\")\n",
    "plt.xlabel(\"Number of transactions\")\n",
    "# plt.savefig(\"large_fraction_constant_seqread.png\", dpi=100)\n",
    "plt.show()"
   ]
  },
  {
   "cell_type": "markdown",
   "metadata": {},
   "source": [
    "Again, the time required to read all versions in each file grows linearly with the number of transactions stored in each file."
   ]
  },
  {
   "cell_type": "markdown",
   "metadata": {},
   "source": [
    "### Reading specific version"
   ]
  },
  {
   "cell_type": "markdown",
   "metadata": {},
   "source": [
    "The times required to read a specific version from each file are similarly unnaffected by the number of existing versions in the file."
   ]
  },
  {
   "cell_type": "code",
   "execution_count": null,
   "metadata": {},
   "outputs": [],
   "source": [
    "num_transactions = [50, 100, 500, 1000, 5000]\n",
    "\n",
    "fig = plt.figure(figsize=(10, 6))\n",
    "\n",
    "for _ in range(20):\n",
    "    vtimes = []\n",
    "    for i in range(5):\n",
    "        n = num_transactions[i]\n",
    "        filename = f\"{testname}_{n}_{exponent}_{compression}.h5\"\n",
    "        vtimes.append(read_version(filename, n))\n",
    "    plt.plot(num_transactions, vtimes, \"*-\")\n",
    "\n",
    "plt.xticks(np.array(num_transactions)[selected])\n",
    "plt.title(f\"Time (in sec) to read random version for {testname}\")\n",
    "plt.xlabel(\"Number of transactions\")\n",
    "# plt.savefig(\"large_fraction_constant_midread.png\", dpi=100)\n",
    "plt.show()"
   ]
  },
  {
   "cell_type": "markdown",
   "metadata": {},
   "source": [
    "From this test, we can see that reading an arbitrary version from the file is only very slightly affected by the number of versions in the file."
   ]
  },
  {
   "cell_type": "markdown",
   "metadata": {},
   "source": [
    "### Reading first version vs. reading latest version"
   ]
  },
  {
   "cell_type": "markdown",
   "metadata": {},
   "source": [
    "Finally, let's read the first version of each file."
   ]
  },
  {
   "cell_type": "code",
   "execution_count": null,
   "metadata": {},
   "outputs": [],
   "source": [
    "num_transactions = [50, 100, 500, 1000, 5000]\n",
    "\n",
    "fig = plt.figure(figsize=(10, 6))\n",
    "\n",
    "for _ in range(20):\n",
    "    ftimes = []\n",
    "    for i in range(5):\n",
    "        n = num_transactions[i]\n",
    "        filename = f\"{testname}_{n}_{exponent}_{compression}.h5\"\n",
    "        ftimes.append(read_first(filename))\n",
    "    plt.plot(num_transactions, ftimes, \"*-\")\n",
    "\n",
    "plt.xticks(np.array(num_transactions)[selected])\n",
    "plt.title(f\"Time (in sec) to read first version for {testname}\")\n",
    "plt.xlabel(\"Number of transactions\")\n",
    "# plt.savefig(\"large_fraction_constant_firstread.png\", dpi=100)\n",
    "plt.show()"
   ]
  },
  {
   "cell_type": "markdown",
   "metadata": {},
   "source": [
    "Comparing versioned and unversioned files for the latest version results in the following:"
   ]
  },
  {
   "cell_type": "code",
   "execution_count": null,
   "metadata": {},
   "outputs": [],
   "source": [
    "num_transactions = [50, 100, 500, 1000, 5000]\n",
    "\n",
    "fig = plt.figure(figsize=(10, 6))\n",
    "\n",
    "notimes = []\n",
    "for i in range(5):\n",
    "    n = num_transactions[i]\n",
    "    filename = f\"{testname}_{n}_{exponent}_{compression}_no_versions.h5\"\n",
    "    notimes.append(read_no_versions(filename))\n",
    "plt.plot(num_transactions, notimes, \"ko-\", ms=6)\n",
    "plt.legend([\"No versions\"], loc=\"upper left\")\n",
    "\n",
    "for _ in range(50):\n",
    "    ltimes = []\n",
    "    for i in range(5):\n",
    "        n = num_transactions[i]\n",
    "        filename = f\"{testname}_{n}_{exponent}_{compression}.h5\"\n",
    "        ltimes.append(read_last(filename))\n",
    "    plt.plot(num_transactions, ltimes, \"*-\")\n",
    "\n",
    "plt.xticks(np.array(num_transactions)[selected])\n",
    "plt.title(f\"Time (in sec) to read latest version for {testname}\")\n",
    "plt.xlabel(\"Number of transactions\")\n",
    "# plt.savefig(\"large_fraction_constant_lastread.png\", dpi=100)\n",
    "plt.show()"
   ]
  },
  {
   "cell_type": "markdown",
   "metadata": {},
   "source": [
    "In this case, we can see that:\n",
    "\n",
    "- reading the latest version is not as performant as reading an unversioned file;\n",
    "- the time required to read the latest version from a Versioned HDF5 file increases very modestly with the number of versions stored in the file."
   ]
  },
  {
   "cell_type": "markdown",
   "metadata": {},
   "source": [
    "<a id='test5'></a>\n",
    "\n",
    "## Test 5: Mostly appends (Dense)"
   ]
  },
  {
   "cell_type": "markdown",
   "metadata": {},
   "source": [
    "**Note that this test includes a two-dimensional dataset.**"
   ]
  },
  {
   "cell_type": "code",
   "execution_count": null,
   "metadata": {},
   "outputs": [],
   "source": [
    "testname = \"test_mostly_appends_dense\""
   ]
  },
  {
   "cell_type": "markdown",
   "metadata": {},
   "source": [
    "Since this is a two-dimensional dataset, we have observed that a chunk size like the one used in previous examples will generate very large files, and will show a poor performance overall. In this case, we have chosen a chunk size of $2^8$ as a sensible value for the current tests."
   ]
  },
  {
   "cell_type": "code",
   "execution_count": null,
   "metadata": {},
   "outputs": [],
   "source": [
    "compression = \"None\"\n",
    "exponent = 8"
   ]
  },
  {
   "cell_type": "markdown",
   "metadata": {},
   "source": [
    "### Reading in sequential mode"
   ]
  },
  {
   "cell_type": "markdown",
   "metadata": {},
   "source": [
    "When we read all versions in sequential mode for this test, the results are as follows."
   ]
  },
  {
   "cell_type": "code",
   "execution_count": null,
   "metadata": {},
   "outputs": [],
   "source": [
    "rtimes = []\n",
    "num_transactions = [25, 50, 100, 500]\n",
    "for n in num_transactions:\n",
    "    filename = f\"{testname}_{n}_{exponent}_None.h5\"\n",
    "    rtimes.append(read_times(filename))\n",
    "\n",
    "fig = plt.figure(figsize=(10, 6))\n",
    "\n",
    "plt.plot(num_transactions, rtimes, \"o-\")\n",
    "selected = [0, 1, 2, 3]\n",
    "plt.xticks(np.array(num_transactions)[selected])\n",
    "plt.title(f\"Sequential read time (in sec) for {testname}\")\n",
    "plt.xlabel(\"Number of transactions\")\n",
    "# plt.savefig(\"mostly_appends_dense_seqread.png\", dpi=100)\n",
    "plt.show()"
   ]
  },
  {
   "cell_type": "markdown",
   "metadata": {},
   "source": [
    "Note that this behaviour is not directly comparable to `test_mostly_appends_sparse`, as we have used a different chunk size and the dataset contains two-dimensional data. In this case, the increase in the time needed to read the dataset is close to linear."
   ]
  },
  {
   "cell_type": "markdown",
   "metadata": {},
   "source": [
    "### Reading specific version"
   ]
  },
  {
   "cell_type": "markdown",
   "metadata": {},
   "source": [
    "Now, let's see the times required to read a specific version from each file."
   ]
  },
  {
   "cell_type": "code",
   "execution_count": null,
   "metadata": {},
   "outputs": [],
   "source": [
    "num_transactions = [25, 50, 100, 500]\n",
    "\n",
    "fig = plt.figure(figsize=(10, 6))\n",
    "for _ in range(20):\n",
    "    vtimes = []\n",
    "    for i in range(4):\n",
    "        n = num_transactions[i]\n",
    "        filename = f\"{testname}_{n}_{exponent}_{compression}.h5\"\n",
    "        vtimes.append(read_version(filename, n))\n",
    "    plt.plot(num_transactions, vtimes, \"*-\")\n",
    "\n",
    "plt.xticks(num_transactions)\n",
    "plt.title(f\"Time (in sec) to read random version for {testname}\")\n",
    "plt.xlabel(\"Number of transactions\")\n",
    "# plt.savefig(\"mostly_appends_dense_midread.png\", dpi=100)\n",
    "plt.show()"
   ]
  },
  {
   "cell_type": "markdown",
   "metadata": {},
   "source": [
    "For this case, there is no marked increase in the time required to read a specific version from the file with respect to the number of versions."
   ]
  },
  {
   "cell_type": "markdown",
   "metadata": {},
   "source": [
    "### Reading first version vs. reading latest version"
   ]
  },
  {
   "cell_type": "markdown",
   "metadata": {},
   "source": [
    "Reading the first version of each of these files results in the following."
   ]
  },
  {
   "cell_type": "code",
   "execution_count": null,
   "metadata": {},
   "outputs": [],
   "source": [
    "num_transactions = [25, 50, 100, 500]\n",
    "\n",
    "fig = plt.figure(figsize=(10, 6))\n",
    "for _ in range(20):\n",
    "    ftimes = []\n",
    "    for i in range(4):\n",
    "        n = num_transactions[i]\n",
    "        filename = f\"{testname}_{n}_{exponent}_{compression}.h5\"\n",
    "        ftimes.append(read_first(filename))\n",
    "    plt.plot(num_transactions, ftimes, \"*-\")\n",
    "\n",
    "plt.xticks(num_transactions)\n",
    "plt.title(f\"Time (in sec) to read first version for {testname}\")\n",
    "plt.xlabel(\"Number of transactions\")\n",
    "# plt.savefig(\"mostly_appends_dense_firstread.png\", dpi=100)\n",
    "plt.show()"
   ]
  },
  {
   "cell_type": "markdown",
   "metadata": {},
   "source": [
    "For the latest version, once again comparing with the unversioned file, we have the following results:"
   ]
  },
  {
   "cell_type": "code",
   "execution_count": null,
   "metadata": {},
   "outputs": [],
   "source": [
    "num_transactions = [25, 50, 100, 500]\n",
    "\n",
    "fig = plt.figure(figsize=(10, 6))\n",
    "\n",
    "notimes = []\n",
    "for i in range(4):\n",
    "    n = num_transactions[i]\n",
    "    filename = f\"{testname}_{n}_{exponent}_{compression}_no_versions.h5\"\n",
    "    notimes.append(read_no_versions(filename))\n",
    "\n",
    "plt.plot(num_transactions, notimes, \"ko-\", ms=6)\n",
    "plt.legend([\"No versions\"], loc=\"upper left\")\n",
    "\n",
    "for _ in range(20):\n",
    "    ltimes = []\n",
    "    for i in range(4):\n",
    "        n = num_transactions[i]\n",
    "        filename = f\"{testname}_{n}_{exponent}_{compression}.h5\"\n",
    "        ltimes.append(read_last(filename))\n",
    "    plt.plot(num_transactions, ltimes, \"*-\")\n",
    "\n",
    "plt.xticks(np.array(num_transactions)[selected])\n",
    "plt.title(f\"Time (in sec) to read latest version for {testname}\")\n",
    "plt.xlabel(\"Number of transactions\")\n",
    "# plt.savefig(\"mostly_appends_dense_lastread.png\", dpi=100)\n",
    "plt.show()"
   ]
  },
  {
   "cell_type": "markdown",
   "metadata": {},
   "source": [
    "In this case:\n",
    "- There is no marked increase in the time required to read the latest version with respect to the number of versions in each file;\n",
    "- Reading a versioned file is, on average, 5x slower than reading a file containing only the last version of the data."
   ]
  },
  {
   "cell_type": "markdown",
   "metadata": {},
   "source": [
    "## Summary"
   ]
  },
  {
   "cell_type": "markdown",
   "metadata": {},
   "source": [
    "- `test_mostly_appends_sparse` shows the worst performance, with a considerable increase in the times required to read the latest version with respect to the number of transactions in the file.\n",
    "- `test_large_fraction_changes_sparse`, `test_small_fraction_changes_sparse` and `test_large_fraction_constant_sparse` show better results in those same tests. \n",
    "- `test_mostly_appends_dense` includes a two-dimensional dataset, and this does not seem to hinder performance of the versioning beyond what is observed in other one-dimensional tests. \n",
    "- The same behaviour can be observed when reading a specific version from each file.\n",
    "- This reflects what we observe in file sizes and can be partially explained by the increase in the dimension of the arrays which are stored at each version.\n",
    "- Reading the first version is, in all tests, seemingly unaffected by the number of transactions involved in the file."
   ]
  },
  {
   "cell_type": "markdown",
   "metadata": {},
   "source": [
    "<a id='standard'></a>\n",
    "\n",
    "### Standard parameters\n",
    "\n",
    "- `test_large_fraction_changes_sparse`: \n",
    "    - `num_rows_initial = 5000`\n",
    "    - `num_rows_per_append = 10`\n",
    "    - `num_inserts = 10`\n",
    "    - `num_deletes = 10`\n",
    "    - `num_changes = 1000`\n",
    "- `test_mostly_appends_sparse`:\n",
    "    - `num_rows_initial = 1000`\n",
    "    - `num_rows_per_append = 1000`\n",
    "    - `num_inserts = 10`\n",
    "    - `num_deletes = 10`\n",
    "    - `num_changes = 10`  \n",
    "- `test_small_fraction_changes_sparse`\n",
    "    - `num_rows_initial = 5000`\n",
    "    - `num_rows_per_append = 10`\n",
    "    - `num_inserts = 10`\n",
    "    - `num_deletes = 10`\n",
    "    - `num_changes = 10`\n",
    "- `test_large_fraction_constant_sparse`: \n",
    "    - `num_rows_initial = 5000`\n",
    "    - `num_rows_per_append = 0`\n",
    "    - `num_inserts = 10`\n",
    "    - `num_deletes = 10`\n",
    "    - `num_changes = 1000`\n",
    "- `test_mostly_appends_dense`\n",
    "    - `num_rows_initial_0 = 30`\n",
    "    - `num_rows_initial_1 = 30`\n",
    "    - `num_rows_per_append_0 = 1`\n",
    "    - `num_inserts_0 = 1`\n",
    "    - `num_inserts_1 = 10`\n",
    "    - `num_deletes_0 = 1`\n",
    "    - `num_deletes_1 = 1`\n",
    "    - `num_changes = 10`"
   ]
  },
  {
   "cell_type": "code",
   "execution_count": null,
   "metadata": {},
   "outputs": [],
   "source": []
  }
 ],
 "metadata": {
  "kernelspec": {
   "display_name": "Python 3",
   "language": "python",
   "name": "python3"
  },
  "language_info": {
   "codemirror_mode": {
    "name": "ipython",
    "version": 3
   },
   "file_extension": ".py",
   "mimetype": "text/x-python",
   "name": "python",
   "nbconvert_exporter": "python",
   "pygments_lexer": "ipython3",
   "version": "3.8.2"
  }
 },
 "nbformat": 4,
 "nbformat_minor": 4
}
